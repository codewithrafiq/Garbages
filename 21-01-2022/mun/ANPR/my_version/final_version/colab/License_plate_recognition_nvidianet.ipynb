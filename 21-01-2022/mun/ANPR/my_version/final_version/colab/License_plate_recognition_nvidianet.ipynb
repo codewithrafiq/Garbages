{
  "nbformat": 4,
  "nbformat_minor": 0,
  "metadata": {
    "accelerator": "GPU",
    "colab": {
      "name": "License_plate_recognition_nvidianet.ipynb",
      "provenance": [],
      "collapsed_sections": [],
      "toc_visible": true
    },
    "kernelspec": {
      "display_name": "Python 3",
      "language": "python",
      "name": "python3"
    },
    "language_info": {
      "codemirror_mode": {
        "name": "ipython",
        "version": 3
      },
      "file_extension": ".py",
      "mimetype": "text/x-python",
      "name": "python",
      "nbconvert_exporter": "python",
      "pygments_lexer": "ipython3",
      "version": "3.7.1"
    }
  },
  "cells": [
    {
      "cell_type": "code",
      "metadata": {
        "id": "lcLM6x21RsPC"
      },
      "source": [
        "import tensorflow as tf\n",
        "\n",
        "\n",
        "import warnings\n",
        "warnings.filterwarnings('ignore')\n"
      ],
      "execution_count": 1,
      "outputs": []
    },
    {
      "cell_type": "code",
      "metadata": {
        "colab": {
          "base_uri": "https://localhost:8080/"
        },
        "id": "ClKhaBJaR-Jc",
        "outputId": "dd16184a-b4f2-4fce-b1a5-b0163aff6595"
      },
      "source": [
        "device_name = tf.test.gpu_device_name()\n",
        "if device_name != '/device:GPU:0':\n",
        "  raise SystemError('GPU device not found')\n",
        "print('Found GPU at: {}'.format(device_name))"
      ],
      "execution_count": 2,
      "outputs": [
        {
          "output_type": "stream",
          "text": [
            "Found GPU at: /device:GPU:0\n"
          ],
          "name": "stdout"
        }
      ]
    },
    {
      "cell_type": "code",
      "metadata": {
        "colab": {
          "base_uri": "https://localhost:8080/"
        },
        "id": "BlDsNFEeSA1s",
        "outputId": "158ba151-7ec8-465f-cfcc-bf4d3cae177d"
      },
      "source": [
        "from google.colab import drive\n",
        "drive.mount('/content/drive')"
      ],
      "execution_count": 3,
      "outputs": [
        {
          "output_type": "stream",
          "text": [
            "Mounted at /content/drive\n"
          ],
          "name": "stdout"
        }
      ]
    },
    {
      "cell_type": "code",
      "metadata": {
        "id": "eb3OFltETAwJ"
      },
      "source": [
        "import cv2\n",
        "import numpy as np\n",
        "import glob\n",
        "from keras.preprocessing.image import ImageDataGenerator, load_img\n",
        "%matplotlib inline"
      ],
      "execution_count": 4,
      "outputs": []
    },
    {
      "cell_type": "code",
      "metadata": {
        "colab": {
          "base_uri": "https://localhost:8080/"
        },
        "id": "IaGQuqFrTLCp",
        "outputId": "643f5e4e-500d-434d-adf2-e40b0c2287b3"
      },
      "source": [
        "image_gen = ImageDataGenerator(rotation_range=10,\n",
        "                              width_shift_range=0.2,\n",
        "                              height_shift_range=0.2,\n",
        "                              rescale=1/255,\n",
        "                              fill_mode=\"nearest\",\n",
        "                              validation_split=0.1) # set validation split\n",
        "\n",
        "print(image_gen.flow_from_directory(\"/content/drive/MyDrive/test data/test_data\"))"
      ],
      "execution_count": 5,
      "outputs": [
        {
          "output_type": "stream",
          "text": [
            "Found 5181 images belonging to 11 classes.\n",
            "<tensorflow.python.keras.preprocessing.image.DirectoryIterator object at 0x7f82601020d0>\n"
          ],
          "name": "stdout"
        }
      ]
    },
    {
      "cell_type": "code",
      "metadata": {
        "id": "G2tP5AQCTaAD"
      },
      "source": [
        "import tensorflow as tf\n",
        "import keras\n",
        "from keras.models import Sequential \n",
        "from keras.layers import Conv2D, MaxPool2D, Dropout, Flatten, Dense, AveragePooling2D\n",
        "from keras.optimizers import Adam\n",
        "from keras.models import load_model\n",
        "from keras.callbacks import ModelCheckpoint, EarlyStopping\n"
      ],
      "execution_count": 6,
      "outputs": []
    },
    {
      "cell_type": "code",
      "metadata": {
        "id": "rYIZY7_VTkKz"
      },
      "source": [
        "def nvidia_model():\n",
        "    model = Sequential(name='Nvidia_Model2')\n",
        "    \n",
        "    # elu=Expenential Linear Unit, similar to leaky Relu\n",
        "    # skipping 1st hiddel layer (nomralization layer), as we have normalized the data\n",
        "    \n",
        "    # Convolution Layers\n",
        "    model.add(Conv2D(24, (5, 5), strides=(2, 2), input_shape=(224, 80, 3), activation='elu')) \n",
        "    model.add(Conv2D(36, (5, 5), strides=(2, 2), activation='elu')) \n",
        "    model.add(Conv2D(48, (5, 5), strides=(2, 2), activation='elu')) \n",
        "    model.add(Conv2D(64, (3, 3), activation='elu')) \n",
        "    model.add(Dropout(0.2)) # not in original model. added for more robustness\n",
        "    model.add(Conv2D(64, (3, 3), activation='elu'))\n",
        "    \n",
        "    # Fully Connected Layers\n",
        "    model.add(Flatten())\n",
        "    model.add(Dropout(0.2)) # not in original model. added for more robustness\n",
        "    model.add(Dense(100, activation='elu'))\n",
        "    model.add(Dense(50, activation='elu'))\n",
        "    model.add(Dense(10, activation='elu'))\n",
        "      \n",
        "    # output layer:\n",
        "    model.add(Dense(512, activation='elu'))  # not in original model. added for more robustness\n",
        "    model.add(Dense(11,activation='softmax'))\n",
        "    \n",
        "    model.compile(optimizer='adam', loss='categorical_crossentropy', metrics=['accuracy'])\n",
        "    return model"
      ],
      "execution_count": 7,
      "outputs": []
    },
    {
      "cell_type": "code",
      "metadata": {
        "colab": {
          "base_uri": "https://localhost:8080/"
        },
        "id": "2lSiUXDvTuQq",
        "outputId": "9d5261aa-0e18-43e9-a436-bd60954ff44f"
      },
      "source": [
        "model = nvidia_model()\n",
        "print(model.summary())"
      ],
      "execution_count": 8,
      "outputs": [
        {
          "output_type": "stream",
          "text": [
            "Model: \"Nvidia_Model2\"\n",
            "_________________________________________________________________\n",
            "Layer (type)                 Output Shape              Param #   \n",
            "=================================================================\n",
            "conv2d (Conv2D)              (None, 110, 38, 24)       1824      \n",
            "_________________________________________________________________\n",
            "conv2d_1 (Conv2D)            (None, 53, 17, 36)        21636     \n",
            "_________________________________________________________________\n",
            "conv2d_2 (Conv2D)            (None, 25, 7, 48)         43248     \n",
            "_________________________________________________________________\n",
            "conv2d_3 (Conv2D)            (None, 23, 5, 64)         27712     \n",
            "_________________________________________________________________\n",
            "dropout (Dropout)            (None, 23, 5, 64)         0         \n",
            "_________________________________________________________________\n",
            "conv2d_4 (Conv2D)            (None, 21, 3, 64)         36928     \n",
            "_________________________________________________________________\n",
            "flatten (Flatten)            (None, 4032)              0         \n",
            "_________________________________________________________________\n",
            "dropout_1 (Dropout)          (None, 4032)              0         \n",
            "_________________________________________________________________\n",
            "dense (Dense)                (None, 100)               403300    \n",
            "_________________________________________________________________\n",
            "dense_1 (Dense)              (None, 50)                5050      \n",
            "_________________________________________________________________\n",
            "dense_2 (Dense)              (None, 10)                510       \n",
            "_________________________________________________________________\n",
            "dense_3 (Dense)              (None, 512)               5632      \n",
            "_________________________________________________________________\n",
            "dense_4 (Dense)              (None, 11)                5643      \n",
            "=================================================================\n",
            "Total params: 551,483\n",
            "Trainable params: 551,483\n",
            "Non-trainable params: 0\n",
            "_________________________________________________________________\n",
            "None\n"
          ],
          "name": "stdout"
        }
      ]
    },
    {
      "cell_type": "code",
      "metadata": {
        "id": "w1pLpB8lTxVP"
      },
      "source": [
        "checkpoint_filepath = 'License_plate_nvidia.h5'\n",
        "# EarlyStopping allows model to stop traning in case loss is not reduced after 5 epochs \n",
        "# ModelCheckpoint allosw model to save weight everytime loss is reduced\n",
        "my_checkpointer = [\n",
        "                   EarlyStopping(monitor='val_loss', patience=5, verbose=0),\n",
        "                   ModelCheckpoint(filepath=checkpoint_filepath, verbose=1, save_best_only=True)\n",
        "                   ]"
      ],
      "execution_count": 10,
      "outputs": []
    },
    {
      "cell_type": "code",
      "metadata": {
        "colab": {
          "base_uri": "https://localhost:8080/"
        },
        "id": "VL4cDOztaPGE",
        "outputId": "116bd51c-ca20-4b27-cbed-5ed7dd9ab891"
      },
      "source": [
        "input_shape = (224,80,3)\n",
        "batch_size = 150\n",
        "\n",
        "train_image_gen = image_gen.flow_from_directory(\"/content/drive/MyDrive/test data/test_data\",\n",
        "                                                target_size=input_shape[:2],\n",
        "                                                batch_size=batch_size,\n",
        "                                                class_mode=\"categorical\",\n",
        "                                                subset=\"training\")\n",
        "valid_image_gen = image_gen.flow_from_directory(\"/content/drive/MyDrive/test data/test_data\",\n",
        "                                                target_size=input_shape[:2],\n",
        "                                                batch_size=batch_size,\n",
        "                                                class_mode=\"categorical\",\n",
        "                                                subset=\"validation\")"
      ],
      "execution_count": 11,
      "outputs": [
        {
          "output_type": "stream",
          "text": [
            "Found 4666 images belonging to 11 classes.\n",
            "Found 515 images belonging to 11 classes.\n"
          ],
          "name": "stdout"
        }
      ]
    },
    {
      "cell_type": "code",
      "metadata": {
        "colab": {
          "base_uri": "https://localhost:8080/"
        },
        "id": "1krT-pxpVAT-",
        "outputId": "1efceb76-814d-4cc8-f82a-159a6af090f8"
      },
      "source": [
        "#model.load_weights(\"License_plate_nvidia.h5\")\n",
        "result = model.fit_generator(train_image_gen,epochs=40,steps_per_epoch=len(train_image_gen),\n",
        "                           validation_data=valid_image_gen,validation_steps=len(valid_image_gen),callbacks=my_checkpointer,verbose=1)"
      ],
      "execution_count": 12,
      "outputs": [
        {
          "output_type": "stream",
          "text": [
            "Epoch 1/40\n",
            "32/32 [==============================] - 715s 22s/step - loss: 2.2194 - accuracy: 0.1984 - val_loss: 1.8100 - val_accuracy: 0.3748\n",
            "\n",
            "Epoch 00001: val_loss improved from inf to 1.81004, saving model to License_plate_nvidia.h5\n",
            "Epoch 2/40\n",
            "32/32 [==============================] - 24s 762ms/step - loss: 1.4219 - accuracy: 0.5091 - val_loss: 1.1778 - val_accuracy: 0.6214\n",
            "\n",
            "Epoch 00002: val_loss improved from 1.81004 to 1.17785, saving model to License_plate_nvidia.h5\n",
            "Epoch 3/40\n",
            "32/32 [==============================] - 24s 746ms/step - loss: 0.7809 - accuracy: 0.7393 - val_loss: 0.7761 - val_accuracy: 0.7359\n",
            "\n",
            "Epoch 00003: val_loss improved from 1.17785 to 0.77606, saving model to License_plate_nvidia.h5\n",
            "Epoch 4/40\n",
            "32/32 [==============================] - 24s 751ms/step - loss: 0.4630 - accuracy: 0.8337 - val_loss: 0.6166 - val_accuracy: 0.8330\n",
            "\n",
            "Epoch 00004: val_loss improved from 0.77606 to 0.61657, saving model to License_plate_nvidia.h5\n",
            "Epoch 5/40\n",
            "32/32 [==============================] - 24s 746ms/step - loss: 0.3039 - accuracy: 0.8937 - val_loss: 0.4275 - val_accuracy: 0.8505\n",
            "\n",
            "Epoch 00005: val_loss improved from 0.61657 to 0.42754, saving model to License_plate_nvidia.h5\n",
            "Epoch 6/40\n",
            "32/32 [==============================] - 24s 747ms/step - loss: 0.2215 - accuracy: 0.9277 - val_loss: 0.2828 - val_accuracy: 0.9243\n",
            "\n",
            "Epoch 00006: val_loss improved from 0.42754 to 0.28281, saving model to License_plate_nvidia.h5\n",
            "Epoch 7/40\n",
            "32/32 [==============================] - 24s 748ms/step - loss: 0.1478 - accuracy: 0.9485 - val_loss: 0.3484 - val_accuracy: 0.8913\n",
            "\n",
            "Epoch 00007: val_loss did not improve from 0.28281\n",
            "Epoch 8/40\n",
            "32/32 [==============================] - 24s 750ms/step - loss: 0.1396 - accuracy: 0.9517 - val_loss: 0.3332 - val_accuracy: 0.8990\n",
            "\n",
            "Epoch 00008: val_loss did not improve from 0.28281\n",
            "Epoch 9/40\n",
            "32/32 [==============================] - 24s 749ms/step - loss: 0.1224 - accuracy: 0.9567 - val_loss: 0.2421 - val_accuracy: 0.9437\n",
            "\n",
            "Epoch 00009: val_loss improved from 0.28281 to 0.24206, saving model to License_plate_nvidia.h5\n",
            "Epoch 10/40\n",
            "32/32 [==============================] - 24s 753ms/step - loss: 0.0926 - accuracy: 0.9728 - val_loss: 0.1479 - val_accuracy: 0.9476\n",
            "\n",
            "Epoch 00010: val_loss improved from 0.24206 to 0.14788, saving model to License_plate_nvidia.h5\n",
            "Epoch 11/40\n",
            "32/32 [==============================] - 24s 778ms/step - loss: 0.0800 - accuracy: 0.9684 - val_loss: 0.1373 - val_accuracy: 0.9515\n",
            "\n",
            "Epoch 00011: val_loss improved from 0.14788 to 0.13726, saving model to License_plate_nvidia.h5\n",
            "Epoch 12/40\n",
            "32/32 [==============================] - 24s 749ms/step - loss: 0.0650 - accuracy: 0.9760 - val_loss: 0.1156 - val_accuracy: 0.9689\n",
            "\n",
            "Epoch 00012: val_loss improved from 0.13726 to 0.11559, saving model to License_plate_nvidia.h5\n",
            "Epoch 13/40\n",
            "32/32 [==============================] - 24s 746ms/step - loss: 0.0537 - accuracy: 0.9831 - val_loss: 0.1079 - val_accuracy: 0.9709\n",
            "\n",
            "Epoch 00013: val_loss improved from 0.11559 to 0.10788, saving model to License_plate_nvidia.h5\n",
            "Epoch 14/40\n",
            "32/32 [==============================] - 24s 754ms/step - loss: 0.0371 - accuracy: 0.9876 - val_loss: 0.0659 - val_accuracy: 0.9748\n",
            "\n",
            "Epoch 00014: val_loss improved from 0.10788 to 0.06588, saving model to License_plate_nvidia.h5\n",
            "Epoch 15/40\n",
            "32/32 [==============================] - 25s 767ms/step - loss: 0.0541 - accuracy: 0.9823 - val_loss: 0.1299 - val_accuracy: 0.9650\n",
            "\n",
            "Epoch 00015: val_loss did not improve from 0.06588\n",
            "Epoch 16/40\n",
            "32/32 [==============================] - 24s 761ms/step - loss: 0.0612 - accuracy: 0.9791 - val_loss: 0.0300 - val_accuracy: 0.9903\n",
            "\n",
            "Epoch 00016: val_loss improved from 0.06588 to 0.03002, saving model to License_plate_nvidia.h5\n",
            "Epoch 17/40\n",
            "32/32 [==============================] - 24s 756ms/step - loss: 0.0483 - accuracy: 0.9842 - val_loss: 0.2209 - val_accuracy: 0.9456\n",
            "\n",
            "Epoch 00017: val_loss did not improve from 0.03002\n",
            "Epoch 18/40\n",
            "32/32 [==============================] - 24s 753ms/step - loss: 0.1502 - accuracy: 0.9539 - val_loss: 0.2390 - val_accuracy: 0.9340\n",
            "\n",
            "Epoch 00018: val_loss did not improve from 0.03002\n",
            "Epoch 19/40\n",
            "32/32 [==============================] - 24s 755ms/step - loss: 0.0763 - accuracy: 0.9733 - val_loss: 0.0498 - val_accuracy: 0.9845\n",
            "\n",
            "Epoch 00019: val_loss did not improve from 0.03002\n",
            "Epoch 20/40\n",
            "32/32 [==============================] - 24s 747ms/step - loss: 0.0413 - accuracy: 0.9860 - val_loss: 0.0664 - val_accuracy: 0.9806\n",
            "\n",
            "Epoch 00020: val_loss did not improve from 0.03002\n",
            "Epoch 21/40\n",
            "32/32 [==============================] - 24s 749ms/step - loss: 0.0280 - accuracy: 0.9909 - val_loss: 0.0416 - val_accuracy: 0.9903\n",
            "\n",
            "Epoch 00021: val_loss did not improve from 0.03002\n"
          ],
          "name": "stdout"
        }
      ]
    },
    {
      "cell_type": "code",
      "metadata": {
        "colab": {
          "base_uri": "https://localhost:8080/",
          "height": 573
        },
        "id": "t7ujQQ_ia-RO",
        "outputId": "8a04075b-5c8a-4a59-a2f6-46cea8e3a7d6"
      },
      "source": [
        "import matplotlib.pyplot as plt\n",
        "plt.figure(0)\n",
        "plt.plot(result.history['accuracy'], label='training accuracy')\n",
        "plt.plot(result.history['val_accuracy'], label='val accuracy')\n",
        "plt.title('Accuracy')\n",
        "plt.xlabel('epochs')\n",
        "plt.ylabel('accuracy')\n",
        "plt.legend()\n",
        "#plt.savefig(\"Accuracy.png\", dpi=300)\n",
        "\n",
        "plt.figure(1)\n",
        "plt.plot(result.history['loss'], label='training loss')\n",
        "plt.plot(result.history['val_loss'], label='val loss')\n",
        "plt.title('Loss')\n",
        "plt.xlabel('epochs')\n",
        "plt.ylabel('loss')\n",
        "plt.legend()\n",
        "\n",
        "plt.savefig(\"Loss.png\", dpi=300)"
      ],
      "execution_count": 13,
      "outputs": [
        {
          "output_type": "display_data",
          "data": {
            "image/png": "[encoded data removed]",
            "text/plain": [
              "<Figure size 432x288 with 1 Axes>"
            ]
          },
          "metadata": {
            "tags": [],
            "needs_background": "light"
          }
        },
        {
          "output_type": "display_data",
          "data": {
            "image/png": "[encoded data removed]",
            "text/plain": [
              "<Figure size 432x288 with 1 Axes>"
            ]
          },
          "metadata": {
            "tags": [],
            "needs_background": "light"
          }
        }
      ]
    },
    {
      "cell_type": "code",
      "metadata": {
        "id": "wWdlf2o6yp1A"
      },
      "source": [
        "from keras.models import model_from_json\n",
        "model_json = model.to_json()\n",
        "with open(\"License_plate_nvidia.json\",\"w\") as json_file:\n",
        "  json_file.write(model_json)"
      ],
      "execution_count": 14,
      "outputs": []
    },
    {
      "cell_type": "code",
      "metadata": {
        "id": "v33Lna-qcqzl"
      },
      "source": [
        ""
      ],
      "execution_count": null,
      "outputs": []
    },
    {
      "cell_type": "code",
      "metadata": {
        "id": "tyNTsoRX5o5W"
      },
      "source": [
        ""
      ],
      "execution_count": null,
      "outputs": []
    },
    {
      "cell_type": "code",
      "metadata": {
        "id": "U8hhFx155o8h"
      },
      "source": [
        ""
      ],
      "execution_count": null,
      "outputs": []
    },
    {
      "cell_type": "code",
      "metadata": {
        "id": "IawVpw8g5o_I"
      },
      "source": [
        ""
      ],
      "execution_count": null,
      "outputs": []
    },
    {
      "cell_type": "code",
      "metadata": {
        "id": "0yYykOOo5pCA"
      },
      "source": [
        ""
      ],
      "execution_count": null,
      "outputs": []
    },
    {
      "cell_type": "code",
      "metadata": {
        "id": "usoj2RhQ5pEz"
      },
      "source": [
        ""
      ],
      "execution_count": null,
      "outputs": []
    },
    {
      "cell_type": "code",
      "metadata": {
        "id": "jdD57vTC5pHr"
      },
      "source": [
        ""
      ],
      "execution_count": null,
      "outputs": []
    },
    {
      "cell_type": "code",
      "metadata": {
        "id": "cyjFChN-5pKs"
      },
      "source": [
        ""
      ],
      "execution_count": null,
      "outputs": []
    },
    {
      "cell_type": "code",
      "metadata": {
        "id": "UG7tXMEB5pNx"
      },
      "source": [
        ""
      ],
      "execution_count": null,
      "outputs": []
    },
    {
      "cell_type": "code",
      "metadata": {
        "id": "Q7s1MOvm5pQx"
      },
      "source": [
        ""
      ],
      "execution_count": null,
      "outputs": []
    },
    {
      "cell_type": "code",
      "metadata": {
        "id": "0YZZktJ55pUT"
      },
      "source": [
        "adam = keras.optimizers.Adam(lr=1e-5, beta_1=0.9, beta_2=0.999, amsgrad=False)\n",
        "model.compile(optimizer=adam, loss='categorical_crossentropy', metrics=['accuracy'])\n",
        "result2 = model.fit_generator(train_image_gen,epochs=40,steps_per_epoch=len(train_image_gen),\n",
        "                           validation_data=valid_image_gen,validation_steps=len(valid_image_gen),callbacks=my_checkpointer,verbose=1)"
      ],
      "execution_count": null,
      "outputs": []
    }
  ]
}