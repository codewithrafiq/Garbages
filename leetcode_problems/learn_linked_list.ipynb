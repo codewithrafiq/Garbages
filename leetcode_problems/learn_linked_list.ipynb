{
 "cells": [
  {
   "cell_type": "code",
   "execution_count": 18,
   "metadata": {},
   "outputs": [],
   "source": [
    "class Node:\n",
    "    def __init__(self,data):\n",
    "        self.data = data\n",
    "        self.next = None\n",
    "class CreateNode:\n",
    "    def __inti__(self):\n",
    "        self.head = None\n",
    "    def display(self):\n",
    "        if self.head is None:\n",
    "            print(\"Linked List is Empty\")\n",
    "        else:\n",
    "            temp = self.head\n",
    "            while (temp):\n",
    "                print(temp.data, \"--->\", end=\" \")\n",
    "                temp = temp.next"
   ]
  },
  {
   "cell_type": "code",
   "execution_count": 19,
   "metadata": {},
   "outputs": [
    {
     "ename": "AttributeError",
     "evalue": "'CreateNode' object has no attribute 'head'",
     "output_type": "error",
     "traceback": [
      "\u001b[0;31m---------------------------------------------------------------------------\u001b[0m",
      "\u001b[0;31mAttributeError\u001b[0m                            Traceback (most recent call last)",
      "\u001b[1;32m/home/nyaz/Rafiq/leetcode_problems/learn_linked_list.ipynb Cell 2'\u001b[0m in \u001b[0;36m<cell line: 2>\u001b[0;34m()\u001b[0m\n\u001b[1;32m      <a href='vscode-notebook-cell:/home/nyaz/Rafiq/leetcode_problems/learn_linked_list.ipynb#ch0000005?line=0'>1</a>\u001b[0m c \u001b[39m=\u001b[39m CreateNode()\n\u001b[0;32m----> <a href='vscode-notebook-cell:/home/nyaz/Rafiq/leetcode_problems/learn_linked_list.ipynb#ch0000005?line=1'>2</a>\u001b[0m c\u001b[39m.\u001b[39;49mdisplay()\n",
      "\u001b[1;32m/home/nyaz/Rafiq/leetcode_problems/learn_linked_list.ipynb Cell 1'\u001b[0m in \u001b[0;36mCreateNode.display\u001b[0;34m(self)\u001b[0m\n\u001b[1;32m      <a href='vscode-notebook-cell:/home/nyaz/Rafiq/leetcode_problems/learn_linked_list.ipynb#ch0000003?line=7'>8</a>\u001b[0m \u001b[39mdef\u001b[39;00m \u001b[39mdisplay\u001b[39m(\u001b[39mself\u001b[39m):\n\u001b[0;32m----> <a href='vscode-notebook-cell:/home/nyaz/Rafiq/leetcode_problems/learn_linked_list.ipynb#ch0000003?line=8'>9</a>\u001b[0m     \u001b[39mif\u001b[39;00m \u001b[39mself\u001b[39;49m\u001b[39m.\u001b[39;49mhead \u001b[39mis\u001b[39;00m \u001b[39mNone\u001b[39;00m:\n\u001b[1;32m     <a href='vscode-notebook-cell:/home/nyaz/Rafiq/leetcode_problems/learn_linked_list.ipynb#ch0000003?line=9'>10</a>\u001b[0m         \u001b[39mprint\u001b[39m(\u001b[39m\"\u001b[39m\u001b[39mLinked List is Empty\u001b[39m\u001b[39m\"\u001b[39m)\n\u001b[1;32m     <a href='vscode-notebook-cell:/home/nyaz/Rafiq/leetcode_problems/learn_linked_list.ipynb#ch0000003?line=10'>11</a>\u001b[0m     \u001b[39melse\u001b[39;00m:\n",
      "\u001b[0;31mAttributeError\u001b[0m: 'CreateNode' object has no attribute 'head'"
     ]
    }
   ],
   "source": [
    "c = CreateNode()\n",
    "c.display()"
   ]
  },
  {
   "cell_type": "code",
   "execution_count": null,
   "metadata": {},
   "outputs": [],
   "source": []
  }
 ],
 "metadata": {
  "interpreter": {
   "hash": "9367c1998ec7470c4815a12b1913dd134dfff0ace50caef20b4f9021669c9912"
  },
  "kernelspec": {
   "display_name": "Python 3.9.7 ('base')",
   "language": "python",
   "name": "python3"
  },
  "language_info": {
   "codemirror_mode": {
    "name": "ipython",
    "version": 3
   },
   "file_extension": ".py",
   "mimetype": "text/x-python",
   "name": "python",
   "nbconvert_exporter": "python",
   "pygments_lexer": "ipython3",
   "version": "3.9.7"
  },
  "orig_nbformat": 4
 },
 "nbformat": 4,
 "nbformat_minor": 2
}
